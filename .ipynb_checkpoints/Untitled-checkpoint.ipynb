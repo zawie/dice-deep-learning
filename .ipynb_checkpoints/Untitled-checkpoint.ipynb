{
 "cells": [
  {
   "cell_type": "code",
   "execution_count": 5,
   "metadata": {},
   "outputs": [],
   "source": [
    "import torch\n",
    "import torch.nn as nn"
   ]
  },
  {
   "cell_type": "markdown",
   "metadata": {},
   "source": [
    "# Roll Functions"
   ]
  },
  {
   "cell_type": "code",
   "execution_count": 6,
   "metadata": {},
   "outputs": [
    {
     "name": "stdout",
     "output_type": "stream",
     "text": [
      "[4, 5, 1, 1, 5, 2, 5, 2, 3, 4]\n",
      "[6, 1, 5, 5, 3, 3, 6, 6, 6, 6]\n"
     ]
    }
   ],
   "source": [
    "import random\n",
    "defaultLength = 10\n",
    "\n",
    "def fairRoll(length=defaultLength):\n",
    "    \"\"\" \n",
    "        length: the length of the outputed sequence\n",
    "        Returns a sequnce of farily rolled die\n",
    "    \"\"\"\n",
    "    result = []\n",
    "    for _ in range(length):\n",
    "        result.append(random.randint(1,6))\n",
    "    return result\n",
    "\n",
    "def biasRoll(length=defaultLength,bias=[.1,.1,.1,.15,.2,.35]):\n",
    "    \"\"\" \n",
    "      length: the length of the outputed sequence\n",
    "      bias: an array that must sum to 1 reprsenting the weight of each side of dice.\n",
    "      Returns a sequnce of biasily rolled die\n",
    "    \"\"\"\n",
    "    if sum(bias) != 1:\n",
    "        print(\"Bad bias\")\n",
    "        return None\n",
    "    else:\n",
    "        result = []\n",
    "        for _ in range(length):\n",
    "            r = random.random()\n",
    "            threshold = 0\n",
    "            for index,weight in enumerate(bias):\n",
    "                threshold += weight\n",
    "                if r <= threshold:\n",
    "                    result.append(index+1)\n",
    "                    break\n",
    "        return result\n",
    "\n",
    "print(fairRoll())\n",
    "print(biasRoll())"
   ]
  },
  {
   "cell_type": "markdown",
   "metadata": {},
   "source": [
    "# Prepare Data"
   ]
  },
  {
   "cell_type": "code",
   "execution_count": 11,
   "metadata": {},
   "outputs": [],
   "source": [
    "def generateData(amount,length):\n",
    "    if amount % 2 != 0:\n",
    "        amount += 1\n",
    "        print(\"Amount has to be even, amount set to:\",amount)\n",
    "    data = []\n",
    "    target = [1,0]*(amount//2)\n",
    "    for _ in range(amount//2):\n",
    "        data.extend([fairRoll(length=length),biasRoll(length=length)])\n",
    "    return torch.tensor(data),torch.tensor(target)\n",
    "\n",
    "sequence_length = 10\n",
    "train = generateData(900,sequence_length)\n",
    "test = generateData(100,sequence_length)"
   ]
  },
  {
   "cell_type": "markdown",
   "metadata": {},
   "source": [
    "# Build Model"
   ]
  },
  {
   "cell_type": "markdown",
   "metadata": {},
   "source": [
    "Here I created feed-forward neural network with one hidden layer"
   ]
  },
  {
   "cell_type": "code",
   "execution_count": 12,
   "metadata": {},
   "outputs": [],
   "source": [
    "class DiceNet(nn.Module):\n",
    "    def __init__(self, input_size, hidden_size, output_size):\n",
    "        super(DiceNet,self).__init__()\n",
    "        self.fc1 = nn.Linear(input_size,hidden_size)\n",
    "        self.relu1 = nn.ReLU()\n",
    "        self.fc2 = nn.Linear(hidden_size, output_size)\n",
    "        \n",
    "    def forward(self,x):\n",
    "        x = self.fc1(x)\n",
    "        x = self.relu1(x)\n",
    "        x = self.fc2(x)\n",
    "        return x\n",
    "\n",
    "model = DiceNet(sequence_length,24,2)"
   ]
  },
  {
   "cell_type": "markdown",
   "metadata": {},
   "source": [
    "# Create the DataLoader"
   ]
  },
  {
   "cell_type": "code",
   "execution_count": null,
   "metadata": {},
   "outputs": [],
   "source": [
    "batch_size = 60\n",
    "train_loader = torch.utils.DataLoader(dataset=train,batch_size=batch_size,shuffle=True)\n",
    "test_loader = torch.utils.DataLoader(dataset=test,batch_size=batch_size,shuffle=True)"
   ]
  }
 ],
 "metadata": {
  "kernelspec": {
   "display_name": "Python 3",
   "language": "python",
   "name": "python3"
  },
  "language_info": {
   "codemirror_mode": {
    "name": "ipython",
    "version": 3
   },
   "file_extension": ".py",
   "mimetype": "text/x-python",
   "name": "python",
   "nbconvert_exporter": "python",
   "pygments_lexer": "ipython3",
   "version": "3.7.6"
  }
 },
 "nbformat": 4,
 "nbformat_minor": 4
}
