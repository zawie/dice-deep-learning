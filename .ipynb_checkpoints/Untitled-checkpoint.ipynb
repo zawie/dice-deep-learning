{
 "cells": [
  {
   "cell_type": "code",
   "execution_count": 8,
   "metadata": {},
   "outputs": [],
   "source": [
    "import torch\n",
    "import torch.nn as nn\n",
    "\n",
    "sequence_length = 100"
   ]
  },
  {
   "cell_type": "markdown",
   "metadata": {},
   "source": [
    "# Roll Functions"
   ]
  },
  {
   "cell_type": "code",
   "execution_count": 2,
   "metadata": {},
   "outputs": [],
   "source": [
    "import random\n",
    "\n",
    "def fairRoll(length=sequence_length):\n",
    "    \"\"\" \n",
    "        length: the length of the outputed sequence\n",
    "        Returns a sequnce of farily rolled die\n",
    "    \"\"\"\n",
    "    result = []\n",
    "    for _ in range(length):\n",
    "        result.append(random.randint(1,6))\n",
    "    return result\n",
    "\n",
    "def biasRoll(length=sequence_length,bias=[.1,.1,.1,.15,.2,.35]):\n",
    "    \"\"\" \n",
    "      length: the length of the outputed sequence\n",
    "      bias: an array that must sum to 1 reprsenting the weight of each side of dice.\n",
    "      Returns a sequnce of biasily rolled die\n",
    "    \"\"\"\n",
    "    if sum(bias) != 1:\n",
    "        print(\"Bad bias\")\n",
    "        return None\n",
    "    else:\n",
    "        result = []\n",
    "        for _ in range(length):\n",
    "            r = random.random()\n",
    "            threshold = 0\n",
    "            for index,weight in enumerate(bias):\n",
    "                threshold += weight\n",
    "                if r <= threshold:\n",
    "                    result.append(index+1)\n",
    "                    break\n",
    "        return result"
   ]
  },
  {
   "cell_type": "markdown",
   "metadata": {},
   "source": [
    "# Prepare Data"
   ]
  },
  {
   "cell_type": "code",
   "execution_count": 3,
   "metadata": {},
   "outputs": [],
   "source": [
    "from torch.utils.data import Dataset, DataLoader\n",
    "\n",
    "class DiceDataset(Dataset):\n",
    "    def __init__(self,amount,length):\n",
    "        #Compute data\n",
    "        if amount % 2 != 0:\n",
    "            amount += 1\n",
    "            print(\"Amount has to be even, amount set to:\",amount)\n",
    "        data = []\n",
    "        target = [[1,0],[0,1]]*(amount//2)\n",
    "        for _ in range(amount//2):\n",
    "            data.extend([fairRoll(length=length),biasRoll(length=length)])\n",
    "        #Define paramets\n",
    "        self.len = amount\n",
    "        self.x_data = torch.Tensor(data)\n",
    "        self.y_data = torch.Tensor(target)\n",
    "        \n",
    "    def __getitem__(self,index):\n",
    "        return self.x_data[index], self.y_data[index]\n",
    "    \n",
    "    def __len__(self):\n",
    "        return self.len\n",
    "    \n",
    "entry_count = int(1000)\n",
    "batch_size = int(100)\n",
    "\n",
    "dataset = DiceDataset(entry_count,sequence_length)\n",
    "train_loader = torch.utils.data.DataLoader(dataset=dataset,batch_size=batch_size,shuffle=True)"
   ]
  },
  {
   "cell_type": "markdown",
   "metadata": {},
   "source": [
    "# Build Model"
   ]
  },
  {
   "cell_type": "markdown",
   "metadata": {},
   "source": [
    "Here I created feed-forward neural network with one hidden layer"
   ]
  },
  {
   "cell_type": "code",
   "execution_count": 4,
   "metadata": {},
   "outputs": [
    {
     "name": "stdout",
     "output_type": "stream",
     "text": [
      "DiceNet(\n",
      "  (fc1): Linear(in_features=1000, out_features=48, bias=True)\n",
      "  (relu1): ReLU()\n",
      "  (fc2): Linear(in_features=48, out_features=2, bias=True)\n",
      ")\n",
      "DiceNet(\n",
      "  (fc1): Linear(in_features=1000, out_features=48, bias=True)\n",
      "  (relu1): ReLU()\n",
      "  (fc2): Linear(in_features=48, out_features=2, bias=True)\n",
      ")\n"
     ]
    }
   ],
   "source": [
    "class DiceNet(nn.Module):\n",
    "    def __init__(self, input_size, hidden_size, output_size):\n",
    "        super(DiceNet,self).__init__()\n",
    "        self.fc1 = nn.Linear(input_size,hidden_size)\n",
    "        self.relu1 = nn.ReLU()\n",
    "        self.fc2 = nn.Linear(hidden_size, output_size)\n",
    "        \n",
    "    def forward(self,x):\n",
    "        x = self.fc1(x)\n",
    "        x = self.relu1(x)\n",
    "        x = self.fc2(x)\n",
    "        return x\n",
    "\n",
    "model = DiceNet(sequence_length,48,2)\n",
    "print(model)"
   ]
  },
  {
   "cell_type": "markdown",
   "metadata": {},
   "source": [
    "# Train Model"
   ]
  },
  {
   "cell_type": "code",
   "execution_count": 5,
   "metadata": {},
   "outputs": [
    {
     "name": "stdout",
     "output_type": "stream",
     "text": [
      "Loss: 0.8255073428153992\n",
      "Loss: 0.4453717768192291\n",
      "Loss: 0.2791185677051544\n",
      "Finished Training\n",
      "Loss: 0.8255073428153992\n",
      "Loss: 0.4453717768192291\n",
      "Loss: 0.2791185677051544\n",
      "Finished Training\n"
     ]
    }
   ],
   "source": [
    "import torch.optim as optim\n",
    "\n",
    "#define critierion and optimizer\n",
    "criterion = nn.MSELoss()\n",
    "optimizer = optim.Adam(model.parameters(), lr=0.001)\n",
    "\n",
    "#training cycle\n",
    "for epoch in range(3):\n",
    "    for i, data in enumerate(train_loader,0):\n",
    "        #get the input & labels\n",
    "        inputs,labels = data\n",
    "        #print(\"Inputs:\",inputs)\n",
    "        #print(\"Labels:\",labels)\n",
    "        \n",
    "        #zero gradient\n",
    "        optimizer.zero_grad()\n",
    "        \n",
    "        #forward, backward, optimize\n",
    "        output = model(inputs)\n",
    "        #print(\"Output:\",output)\n",
    "        loss = criterion(output,labels)\n",
    "        loss.backward()\n",
    "        optimizer.step()\n",
    "        \n",
    "        #print statistics\n",
    "        if i%10 == 0:\n",
    "            print(\"Loss:\",loss.item())\n",
    "        \n",
    "print('Finished Training')\n"
   ]
  },
  {
   "cell_type": "markdown",
   "metadata": {},
   "source": [
    "# Test Model"
   ]
  },
  {
   "cell_type": "code",
   "execution_count": 6,
   "metadata": {},
   "outputs": [],
   "source": [
    "def guess(roll):\n",
    "    \"\"\"\n",
    "    Input: roll (Array), string of numbers produced by a die\n",
    "    Output: whether it is fair or biased\n",
    "    \"\"\"\n",
    "    x = torch.Tensor(roll)\n",
    "    output = model(x)\n",
    "    result = output.tolist()\n",
    "    if result.index(max(result)) == 0:\n",
    "        return \"Fair\"\n",
    "    else:\n",
    "        return \"Bias\""
   ]
  },
  {
   "cell_type": "code",
   "execution_count": 7,
   "metadata": {},
   "outputs": [
    {
     "name": "stdout",
     "output_type": "stream",
     "text": [
      "55.00000000000001 % accuracy!\n",
      "55.00000000000001 % accuracy!\n"
     ]
    }
   ],
   "source": [
    "correct = 0\n",
    "trials = 1000\n",
    "for i in range(trials):\n",
    "    roll = []\n",
    "    target = ''\n",
    "    if i % 2 == 0:\n",
    "        roll = fairRoll()\n",
    "        target = 'Fair'\n",
    "    else:\n",
    "        roll = biasRoll()\n",
    "        target = 'Bias'\n",
    "    if guess(roll) == target:\n",
    "        correct += 1\n",
    "print(correct/trials*100,\"% accuracy!\")"
   ]
  },
  {
   "cell_type": "code",
   "execution_count": null,
   "metadata": {},
   "outputs": [],
   "source": []
  }
 ],
 "metadata": {
  "kernelspec": {
   "display_name": "Python 3",
   "language": "python",
   "name": "python3"
  },
  "language_info": {
   "codemirror_mode": {
    "name": "ipython",
    "version": 3
   },
   "file_extension": ".py",
   "mimetype": "text/x-python",
   "name": "python",
   "nbconvert_exporter": "python",
   "pygments_lexer": "ipython3",
   "version": "3.7.6"
  }
 },
 "nbformat": 4,
 "nbformat_minor": 4
}
