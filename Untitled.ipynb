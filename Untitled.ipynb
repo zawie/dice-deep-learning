{
 "cells": [
  {
   "cell_type": "code",
   "execution_count": 5,
   "metadata": {},
   "outputs": [],
   "source": [
    "import torch\n",
    "import torch.nn as nn"
   ]
  },
  {
   "cell_type": "markdown",
   "metadata": {},
   "source": [
    "# Roll Functions"
   ]
  },
  {
   "cell_type": "code",
   "execution_count": 6,
   "metadata": {},
   "outputs": [
    {
     "name": "stdout",
     "output_type": "stream",
     "text": [
      "[4, 5, 1, 1, 5, 2, 5, 2, 3, 4]\n",
      "[6, 1, 5, 5, 3, 3, 6, 6, 6, 6]\n"
     ]
    }
   ],
   "source": [
    "import random\n",
    "defaultLength = 10\n",
    "\n",
    "def fairRoll(length=defaultLength):\n",
    "    \"\"\" \n",
    "        length: the length of the outputed sequence\n",
    "        Returns a sequnce of farily rolled die\n",
    "    \"\"\"\n",
    "    result = []\n",
    "    for _ in range(length):\n",
    "        result.append(random.randint(1,6))\n",
    "    return result\n",
    "\n",
    "def biasRoll(length=defaultLength,bias=[.1,.1,.1,.1,.1,.5]):\n",
    "    \"\"\" \n",
    "      length: the length of the outputed sequence\n",
    "      bias: an array that must sum to 1 reprsenting the weight of each side of dice.\n",
    "      Returns a sequnce of biasily rolled die\n",
    "    \"\"\"\n",
    "    if sum(bias) != 1:\n",
    "        print(\"Bad bias\")\n",
    "        return None\n",
    "    else:\n",
    "        result = []\n",
    "        for _ in range(length):\n",
    "            r = random.random()\n",
    "            threshold = 0\n",
    "            for index,weight in enumerate(bias):\n",
    "                threshold += weight\n",
    "                if r <= threshold:\n",
    "                    result.append(index+1)\n",
    "                    break\n",
    "        return result\n",
    "\n",
    "print(fairRoll())\n",
    "print(biasRoll())"
   ]
  },
  {
   "cell_type": "markdown",
   "metadata": {},
   "source": [
    "# Prepare Data"
   ]
  },
  {
   "cell_type": "code",
   "execution_count": 8,
   "metadata": {},
   "outputs": [
    {
     "name": "stdout",
     "output_type": "stream",
     "text": [
      "tensor([[6, 1, 6,  ..., 3, 3, 1],\n",
      "        [4, 6, 2,  ..., 4, 5, 6],\n",
      "        [1, 5, 5,  ..., 2, 2, 2],\n",
      "        ...,\n",
      "        [6, 6, 6,  ..., 6, 6, 6],\n",
      "        [1, 3, 4,  ..., 6, 2, 4],\n",
      "        [4, 4, 4,  ..., 6, 6, 1]]) tensor([1, 0, 1, 0, 1, 0, 1, 0, 1, 0, 1, 0, 1, 0, 1, 0, 1, 0, 1, 0, 1, 0, 1, 0,\n",
      "        1, 0, 1, 0, 1, 0, 1, 0, 1, 0, 1, 0, 1, 0, 1, 0, 1, 0, 1, 0, 1, 0, 1, 0,\n",
      "        1, 0, 1, 0, 1, 0, 1, 0, 1, 0, 1, 0, 1, 0, 1, 0, 1, 0, 1, 0, 1, 0, 1, 0,\n",
      "        1, 0, 1, 0, 1, 0, 1, 0, 1, 0, 1, 0, 1, 0, 1, 0, 1, 0, 1, 0, 1, 0, 1, 0,\n",
      "        1, 0, 1, 0])\n"
     ]
    }
   ],
   "source": [
    "def generateData(amount,length):\n",
    "    if amount % 2 != 0:\n",
    "        amount += 1\n",
    "        print(\"Amount has to be even, amount set to:\",amount)\n",
    "    data = []\n",
    "    target = [1,0]*(amount//2)\n",
    "    for _ in range(amount):\n",
    "        data.extend([fairRoll(length=length),biasRoll(length=length)])\n",
    "    return torch.tensor(data),torch.tensor(target)\n",
    "\n",
    "sequence_length = 10\n",
    "trainingData,trainingLabels = generateData(100,sequence_length)\n",
    "testingData,testingLabels, = generateData(900,sequence_length)\n",
    "print(trainingData,trainingLabels)"
   ]
  },
  {
   "cell_type": "code",
   "execution_count": null,
   "metadata": {},
   "outputs": [],
   "source": []
  }
 ],
 "metadata": {
  "kernelspec": {
   "display_name": "Python 3",
   "language": "python",
   "name": "python3"
  },
  "language_info": {
   "codemirror_mode": {
    "name": "ipython",
    "version": 3
   },
   "file_extension": ".py",
   "mimetype": "text/x-python",
   "name": "python",
   "nbconvert_exporter": "python",
   "pygments_lexer": "ipython3",
   "version": "3.7.6"
  }
 },
 "nbformat": 4,
 "nbformat_minor": 4
}
