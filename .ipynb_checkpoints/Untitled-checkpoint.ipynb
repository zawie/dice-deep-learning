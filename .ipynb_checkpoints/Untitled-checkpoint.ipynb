{
 "cells": [
  {
   "cell_type": "markdown",
   "metadata": {},
   "source": [
    "Import torch packages"
   ]
  },
  {
   "cell_type": "code",
   "execution_count": 3,
   "metadata": {},
   "outputs": [],
   "source": [
    "import torch\n",
    "import torch.nn as nn"
   ]
  },
  {
   "cell_type": "markdown",
   "metadata": {},
   "source": [
    "# Roll Functions"
   ]
  },
  {
   "cell_type": "code",
   "execution_count": 4,
   "metadata": {},
   "outputs": [
    {
     "name": "stdout",
     "output_type": "stream",
     "text": [
      "[5, 2, 2, 6, 4, 5, 6, 3, 6, 2]\n",
      "[6, 6, 1, 4, 6, 6, 2, 6, 5, 6]\n"
     ]
    }
   ],
   "source": [
    "import random\n",
    "defaultLength = 10\n",
    "\n",
    "def fairRoll(length=defaultLength):\n",
    "    result = []\n",
    "    for _ in range(length):\n",
    "        result.append(random.randint(1,6))\n",
    "    return result\n",
    "\n",
    "def biasRoll(length=defaultLength,bias=[.1,.1,.1,.1,.1,.5]):\n",
    "    if sum(bias) != 1:\n",
    "        print(\"Bad bias\")\n",
    "        return None\n",
    "    else:\n",
    "        result = []\n",
    "        for _ in range(length):\n",
    "            r = random.random()\n",
    "            threshold = 0\n",
    "            for index,weight in enumerate(bias):\n",
    "                threshold += weight\n",
    "                if r <= threshold:\n",
    "                    result.append(index+1)\n",
    "                    break\n",
    "        return result\n",
    "print(fairRoll())\n",
    "print(biasRoll())"
   ]
  }
 ],
 "metadata": {
  "kernelspec": {
   "display_name": "Python 3",
   "language": "python",
   "name": "python3"
  },
  "language_info": {
   "codemirror_mode": {
    "name": "ipython",
    "version": 3
   },
   "file_extension": ".py",
   "mimetype": "text/x-python",
   "name": "python",
   "nbconvert_exporter": "python",
   "pygments_lexer": "ipython3",
   "version": "3.7.6"
  }
 },
 "nbformat": 4,
 "nbformat_minor": 4
}
